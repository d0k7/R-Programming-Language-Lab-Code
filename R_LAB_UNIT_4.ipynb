{
  "nbformat": 4,
  "nbformat_minor": 0,
  "metadata": {
    "colab": {
      "provenance": [],
      "authorship_tag": "ABX9TyPrVPKpv/+8qHkk/vKBi3zR",
      "include_colab_link": true
    },
    "kernelspec": {
      "name": "ir",
      "display_name": "R"
    },
    "language_info": {
      "name": "R"
    }
  },
  "cells": [
    {
      "cell_type": "markdown",
      "metadata": {
        "id": "view-in-github",
        "colab_type": "text"
      },
      "source": [
        "<a href=\"https://colab.research.google.com/github/d0k7/R-Programming-Language-Lab-Code/blob/main/R_LAB_UNIT_4.ipynb\" target=\"_parent\"><img src=\"https://colab.research.google.com/assets/colab-badge.svg\" alt=\"Open In Colab\"/></a>"
      ]
    },
    {
      "cell_type": "code",
      "execution_count": 1,
      "metadata": {
        "colab": {
          "base_uri": "https://localhost:8080/"
        },
        "id": "qQvMrbqS-N-u",
        "outputId": "17771c07-c744-44f4-b960-174dfb484738"
      },
      "outputs": [
        {
          "output_type": "stream",
          "name": "stdout",
          "text": [
            "      [,1] [,2]\n",
            "[1,] FALSE TRUE\n",
            "[2,]  TRUE TRUE\n"
          ]
        }
      ],
      "source": [
        "#Q1) Create a list that contains, in this order, a sequence of 20 evenly spaced numbers between -4 and 4; a 3 X 3 matrix of the logical vector c(F,T,T,T,F,T,T,F,F)\n",
        "#    filled column-wise; a character vector with the two strings \"don\"\tand\t\"quixote\";\tand\ta\tfactor\tvector\tcontaining\tthe\tobservations c(\"LOW\",\"MED\",\"LOW\",\"MED\",\"MED\",\"HIGH\").\n",
        "#    Then, Extract row elements 2 and 1 of columns 2 and 3, in that order, of the logical matrix.\n",
        "\n",
        "\n",
        "\n",
        "\n",
        "# Create a list with different components\n",
        "my_list <- list(\n",
        "  seq(-4, 4, length.out = 20),\n",
        "  matrix(c(F, T, T, T, F, T, T, F, F), nrow = 3, ncol = 3, byrow = TRUE),\n",
        "  c(\"don\", \"quixote\"),\n",
        "  factor(c(\"LOW\", \"MED\", \"LOW\", \"MED\", \"MED\", \"HIGH\"))\n",
        ")\n",
        "\n",
        "# Extract row elements 2 and 1 of columns 2 and 3 of the logical matrix\n",
        "extracted_elements <- my_list[[2]][c(2, 1), c(2, 3)]\n",
        "print(extracted_elements)\n",
        "\n"
      ]
    },
    {
      "cell_type": "code",
      "source": [
        "#Q2) Create and store this data frame as d frame with the fiiels of person, sex, funny in your R work space. Append the two new records.\n",
        "\n",
        "\n",
        "\n",
        "\n",
        "# Create the data frame with fields person, sex, and funny\n",
        "d_frame <- data.frame(\n",
        "  person = c(\"Alice\", \"Bob\"),\n",
        "  sex = c(\"female\", \"male\"),\n",
        "  funny = c(\"Med\", \"High\"),\n",
        "  stringsAsFactors = FALSE\n",
        ")\n",
        "\n",
        "# Append two new records\n",
        "new_records <- data.frame(\n",
        "  person = c(\"Charlie\", \"David\"),\n",
        "  sex = c(\"male\", \"male\"),\n",
        "  funny = c(\"Low\", \"High\"),\n",
        "  stringsAsFactors = FALSE\n",
        ")\n",
        "\n",
        "d_frame <- rbind(d_frame, new_records)\n",
        "print(d_frame)\n"
      ],
      "metadata": {
        "colab": {
          "base_uri": "https://localhost:8080/"
        },
        "id": "Si2poXpf-mW8",
        "outputId": "8c8aa8c9-838e-4230-8471-909f9ae54ddc"
      },
      "execution_count": 2,
      "outputs": [
        {
          "output_type": "stream",
          "name": "stdout",
          "text": [
            "   person    sex funny\n",
            "1   Alice female   Med\n",
            "2     Bob   male  High\n",
            "3 Charlie   male   Low\n",
            "4   David   male  High\n"
          ]
        }
      ]
    },
    {
      "cell_type": "code",
      "source": [
        "#Q3) Write a single line of code that will extract from my data frame just the names and ages of any records where the individual is female and has\n",
        "#    a level of funniness equal to Med OR High.\n",
        "\n",
        "\n",
        "\n",
        "\n",
        "# Extract names and ages of records for females with funniness level Med or High\n",
        "female_records <- d_frame[d_frame$sex == \"female\" & (d_frame$funny == \"Med\" | d_frame$funny == \"High\"), c(\"person\", \"funny\")]\n",
        "print(female_records)\n",
        "\n"
      ],
      "metadata": {
        "colab": {
          "base_uri": "https://localhost:8080/"
        },
        "id": "aThmyuL7-4Bw",
        "outputId": "e1b5bb8a-b9b2-4aed-a8c4-82563414f189"
      },
      "execution_count": 3,
      "outputs": [
        {
          "output_type": "stream",
          "name": "stdout",
          "text": [
            "  person funny\n",
            "1  Alice   Med\n"
          ]
        }
      ]
    },
    {
      "cell_type": "code",
      "source": [
        "#Q4) Use your knowledge of handling character strings in R to extract all records from my data frame that correspond to people whose names start with S.\n",
        "\n",
        "\n",
        "\n",
        "\n",
        "# Extract records for people whose names start with \"S\"\n",
        "names_starting_with_S <- d_frame[grepl(\"^S\", d_frame$person), ]\n",
        "print(names_starting_with_S)\n"
      ],
      "metadata": {
        "colab": {
          "base_uri": "https://localhost:8080/"
        },
        "id": "y-SRyDmW_Cjy",
        "outputId": "2c7652f3-e208-4bc3-d476-c5f8ae11ed63"
      },
      "execution_count": 4,
      "outputs": [
        {
          "output_type": "stream",
          "name": "stdout",
          "text": [
            "[1] person sex    funny \n",
            "<0 rows> (or 0-length row.names)\n"
          ]
        }
      ]
    }
  ]
}