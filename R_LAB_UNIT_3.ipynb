{
  "nbformat": 4,
  "nbformat_minor": 0,
  "metadata": {
    "colab": {
      "provenance": [],
      "authorship_tag": "ABX9TyNt9LMId9GFkdRsJojheDEy",
      "include_colab_link": true
    },
    "kernelspec": {
      "name": "ir",
      "display_name": "R"
    },
    "language_info": {
      "name": "R"
    }
  },
  "cells": [
    {
      "cell_type": "markdown",
      "metadata": {
        "id": "view-in-github",
        "colab_type": "text"
      },
      "source": [
        "<a href=\"https://colab.research.google.com/github/d0k7/R-Programming-Language-Lab-Code/blob/main/R_LAB_UNIT_3.ipynb\" target=\"_parent\"><img src=\"https://colab.research.google.com/assets/colab-badge.svg\" alt=\"Open In Colab\"/></a>"
      ]
    },
    {
      "cell_type": "code",
      "execution_count": 1,
      "metadata": {
        "colab": {
          "base_uri": "https://localhost:8080/"
        },
        "id": "qRu_yBMb8hLl",
        "outputId": "d98f071f-3676-4ab7-ce28-3d624b010292"
      },
      "outputs": [
        {
          "output_type": "stream",
          "name": "stdout",
          "text": [
            "      row col\n",
            " [1,]   2   1\n",
            " [2,]   3   1\n",
            " [3,]   4   1\n",
            " [4,]   5   1\n",
            " [5,]   6   1\n",
            " [6,]   7   1\n",
            " [7,]   8   1\n",
            " [8,]   9   1\n",
            " [9,]  10   1\n",
            "[10,]   1   2\n",
            "[11,]   3   2\n",
            "[12,]   4   2\n",
            "[13,]   5   2\n",
            "[14,]   6   2\n",
            "[15,]   7   2\n",
            "[16,]   8   2\n",
            "[17,]   9   2\n",
            "[18,]  10   2\n",
            "[19,]   1   3\n",
            "[20,]   2   3\n",
            "[21,]   4   3\n",
            "[22,]   5   3\n",
            "[23,]   6   3\n",
            "[24,]   7   3\n",
            "[25,]   8   3\n",
            "[26,]   9   3\n",
            "[27,]  10   3\n",
            "[28,]   1   4\n",
            "[29,]   2   4\n",
            "[30,]   3   4\n",
            "[31,]   5   4\n",
            "[32,]   6   4\n",
            "[33,]   7   4\n",
            "[34,]   8   4\n",
            "[35,]   9   4\n",
            "[36,]  10   4\n",
            "[37,]   1   5\n",
            "[38,]   2   5\n",
            "[39,]   3   5\n",
            "[40,]   4   5\n",
            "[41,]   6   5\n",
            "[42,]   7   5\n",
            "[43,]   8   5\n",
            "[44,]   9   5\n",
            "[45,]  10   5\n",
            "[46,]   1   6\n",
            "[47,]   2   6\n",
            "[48,]   3   6\n",
            "[49,]   4   6\n",
            "[50,]   5   6\n",
            "[51,]   7   6\n",
            "[52,]   8   6\n",
            "[53,]   9   6\n",
            "[54,]  10   6\n",
            "[55,]   1   7\n",
            "[56,]   2   7\n",
            "[57,]   3   7\n",
            "[58,]   4   7\n",
            "[59,]   5   7\n",
            "[60,]   6   7\n",
            "[61,]   8   7\n",
            "[62,]   9   7\n",
            "[63,]  10   7\n",
            "[64,]   1   8\n",
            "[65,]   2   8\n",
            "[66,]   3   8\n",
            "[67,]   4   8\n",
            "[68,]   5   8\n",
            "[69,]   6   8\n",
            "[70,]   7   8\n",
            "[71,]   9   8\n",
            "[72,]  10   8\n",
            "[73,]   1   9\n",
            "[74,]   2   9\n",
            "[75,]   3   9\n",
            "[76,]   4   9\n",
            "[77,]   5   9\n",
            "[78,]   6   9\n",
            "[79,]   7   9\n",
            "[80,]   8   9\n",
            "[81,]  10   9\n",
            "[82,]   1  10\n",
            "[83,]   2  10\n",
            "[84,]   3  10\n",
            "[85,]   4  10\n",
            "[86,]   5  10\n",
            "[87,]   6  10\n",
            "[88,]   7  10\n",
            "[89,]   8  10\n",
            "[90,]   9  10\n"
          ]
        }
      ],
      "source": [
        "#Q1) Confirm the specific locations of elements equal to 0 in the 10 X 10 identity matrix I10\n",
        "\n",
        "\n",
        "\n",
        "# Create the 10x10 identity matrix\n",
        "I10 <- diag(1, 10)\n",
        "\n",
        "# Check specific locations for elements equal to 0\n",
        "zero_locations <- which(I10 == 0, arr.ind = TRUE)\n",
        "print(zero_locations)\n"
      ]
    },
    {
      "cell_type": "code",
      "source": [
        "# Store this vector of 10 values\n",
        "foo <- c(7, 5, 6, 1, 2, 10, 8, 3, 8, 2)\n",
        "\n",
        "# i. Extract the elements greater than or equal to 5, storing the result as bar\n",
        "bar <- foo[foo >= 5]\n",
        "print(bar)\n",
        "\n",
        "# ii. Display the vector containing those elements from foo that remain after omitting all elements that are greater than or equal to 5\n",
        "remaining_elements <- foo[foo < 5]\n",
        "print(remaining_elements)\n"
      ],
      "metadata": {
        "colab": {
          "base_uri": "https://localhost:8080/"
        },
        "id": "s__r3Zqv8x6d",
        "outputId": "ccd82904-fea0-4ae8-a5d8-f3406d4e5876"
      },
      "execution_count": 6,
      "outputs": [
        {
          "output_type": "stream",
          "name": "stdout",
          "text": [
            "[1]  7  5  6 10  8  8\n",
            "[1] 1 2 3 2\n"
          ]
        }
      ]
    },
    {
      "cell_type": "code",
      "source": [
        "# Q3) Store the string \"Two 6-packs for $12.99\". Then do the following:\n",
        "\n",
        "# i. Use a check for equality to confirm that the substring beginning with character 5 and ending with character 10 is \"6-pack\"\n",
        "str <- \"Two 6-packs for $12.99\"\n",
        "substring_check <- substring(str, 5, 10) == \"6-pack\"\n",
        "print(substring_check)\n",
        "\n",
        "# ii. Make it a better deal by changing the price to $10.99.\n",
        "str <- gsub(\"\\\\$12\\\\.99\", \"$10.99\", str)\n",
        "print(str)\n"
      ],
      "metadata": {
        "colab": {
          "base_uri": "https://localhost:8080/"
        },
        "id": "GsB8lKzo88WF",
        "outputId": "98c6c1ea-fc33-4091-b752-182de78ce53e"
      },
      "execution_count": 7,
      "outputs": [
        {
          "output_type": "stream",
          "name": "stdout",
          "text": [
            "[1] TRUE\n",
            "[1] \"Two 6-packs for $10.99\"\n"
          ]
        }
      ]
    },
    {
      "cell_type": "code",
      "source": [
        "#Q4) Create a factor with levels of confidence as follows: Low for percentages [0,30]; Moderate for Percentages (30, 70]; and High for percentages (70,100].\n",
        "\n",
        "\n",
        "# Create a vector of percentages\n",
        "percentages <- c(10, 45, 85, 20, 65, 5, 95)\n",
        "\n",
        "# Create a factor with levels of confidence\n",
        "confidence_levels <- cut(percentages, breaks = c(0, 30, 70, 100), labels = c(\"Low\", \"Moderate\", \"High\"))\n",
        "print(confidence_levels)\n"
      ],
      "metadata": {
        "colab": {
          "base_uri": "https://localhost:8080/"
        },
        "id": "Y-vl7N2G9Ar3",
        "outputId": "2b85169d-d12a-45e7-d397-b734360d55d6"
      },
      "execution_count": 3,
      "outputs": [
        {
          "output_type": "stream",
          "name": "stdout",
          "text": [
            "[1] Low      Moderate High     Low      Moderate Low      High    \n",
            "Levels: Low Moderate High\n"
          ]
        }
      ]
    }
  ]
}