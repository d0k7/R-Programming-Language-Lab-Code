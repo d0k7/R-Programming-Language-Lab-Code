{
  "nbformat": 4,
  "nbformat_minor": 0,
  "metadata": {
    "colab": {
      "provenance": [],
      "authorship_tag": "ABX9TyPrThFvnStwrcnFCm/s4aNd",
      "include_colab_link": true
    },
    "kernelspec": {
      "name": "ir",
      "display_name": "R"
    },
    "language_info": {
      "name": "R"
    }
  },
  "cells": [
    {
      "cell_type": "markdown",
      "metadata": {
        "id": "view-in-github",
        "colab_type": "text"
      },
      "source": [
        "<a href=\"https://colab.research.google.com/github/d0k7/R-Programming-Language-Lab-Code/blob/main/R_Lab_UNIT_1.ipynb\" target=\"_parent\"><img src=\"https://colab.research.google.com/assets/colab-badge.svg\" alt=\"Open In Colab\"/></a>"
      ]
    },
    {
      "cell_type": "code",
      "execution_count": 5,
      "metadata": {
        "colab": {
          "base_uri": "https://localhost:8080/"
        },
        "id": "yCPCtCpU3lt9",
        "outputId": "b1da8cb2-a7ef-4d2b-aefb-dd7c32f50f1b"
      },
      "outputs": [
        {
          "output_type": "stream",
          "name": "stdout",
          "text": [
            "[1] 25\n",
            "[1] 5\n",
            "[1] 7.389056\n"
          ]
        }
      ],
      "source": [
        "# Q1) 1.\tDevelop the R program for Basic Mathematical computation —Square, Square root, exponential etc.\n",
        "\n",
        "# Square\n",
        "square_result <- 5^2\n",
        "print(square_result)\n",
        "\n",
        "# Square root\n",
        "sqrt_result <- sqrt(25)\n",
        "print(sqrt_result)\n",
        "\n",
        "# Exponential\n",
        "exp_result <- exp(2)\n",
        "print(exp_result)\n"
      ]
    },
    {
      "cell_type": "code",
      "source": [
        "#2) Create an object X that stores the value then overwrite the object in by itself divided by Y. Print the result to the console.\n",
        "\n",
        "# Create and store object X\n",
        "X <- 10\n",
        "\n",
        "# Divide X by Y\n",
        "Y <- 2\n",
        "X <- X / Y\n",
        "print(X)\n"
      ],
      "metadata": {
        "colab": {
          "base_uri": "https://localhost:8080/"
        },
        "id": "K2pQhMXE5QDB",
        "outputId": "b86a95f1-0b6b-4677-a39d-7f92406b8c10"
      },
      "execution_count": 6,
      "outputs": [
        {
          "output_type": "stream",
          "name": "stdout",
          "text": [
            "[1] 5\n"
          ]
        }
      ]
    },
    {
      "cell_type": "code",
      "source": [
        "#Q3) Create and store a sequence of values from x to y that progresses in steps of 0.3\n",
        "\n",
        "# Create and store the sequence\n",
        "x <- 1\n",
        "y <- 7\n",
        "sequence_obj <- seq(x, y, by = 0.3)\n",
        "print(sequence_obj)\n"
      ],
      "metadata": {
        "colab": {
          "base_uri": "https://localhost:8080/"
        },
        "id": "8r0eD0GU5bSi",
        "outputId": "6091539e-6b07-4405-8e56-07a9876600e4"
      },
      "execution_count": 7,
      "outputs": [
        {
          "output_type": "stream",
          "name": "stdout",
          "text": [
            " [1] 1.0 1.3 1.6 1.9 2.2 2.5 2.8 3.1 3.4 3.7 4.0 4.3 4.6 4.9 5.2 5.5 5.8 6.1 6.4\n",
            "[20] 6.7 7.0\n"
          ]
        }
      ]
    },
    {
      "cell_type": "code",
      "source": [
        "#Q4) Overwrite the existing object using the same sequence with the order reversed.\n",
        "\n",
        "# Reverse the sequence and overwrite the existing object\n",
        "sequence_obj <- rev(sequence_obj)\n",
        "print(sequence_obj)\n"
      ],
      "metadata": {
        "colab": {
          "base_uri": "https://localhost:8080/"
        },
        "id": "mpg2YagN5jBc",
        "outputId": "3f150d33-c54b-43ff-fa79-8f8d9013184a"
      },
      "execution_count": 8,
      "outputs": [
        {
          "output_type": "stream",
          "name": "stdout",
          "text": [
            " [1] 7.0 6.7 6.4 6.1 5.8 5.5 5.2 4.9 4.6 4.3 4.0 3.7 3.4 3.1 2.8 2.5 2.2 1.9 1.6\n",
            "[20] 1.3 1.0\n"
          ]
        }
      ]
    },
    {
      "cell_type": "code",
      "source": [
        "#Q5) Confirm that the length of the vector created is 20.\n",
        "\n",
        "# Check the length of the vector\n",
        "vector_length <- length(sequence_obj)\n",
        "print(vector_length)\n",
        "\n"
      ],
      "metadata": {
        "colab": {
          "base_uri": "https://localhost:8080/"
        },
        "id": "pJqaUK2v5jOY",
        "outputId": "fe650f81-5218-4ebb-fcb2-3177a32c8f17"
      },
      "execution_count": 9,
      "outputs": [
        {
          "output_type": "stream",
          "name": "stdout",
          "text": [
            "[1] 21\n"
          ]
        }
      ]
    },
    {
      "cell_type": "code",
      "source": [
        "#Q6) Extract the first and last elements of already created vector from, storing them as a new object.\n",
        "\n",
        "# Extract the first and last elements\n",
        "first_element <- sequence_obj[1]\n",
        "last_element <- sequence_obj[length(sequence_obj)]\n",
        "print(first_element)\n",
        "print(last_element)\n"
      ],
      "metadata": {
        "colab": {
          "base_uri": "https://localhost:8080/"
        },
        "id": "IEYgCCZB5kEB",
        "outputId": "81d3bace-438d-493c-8001-51fa75147a67"
      },
      "execution_count": 10,
      "outputs": [
        {
          "output_type": "stream",
          "name": "stdout",
          "text": [
            "[1] 7\n",
            "[1] 1\n"
          ]
        }
      ]
    }
  ]
}