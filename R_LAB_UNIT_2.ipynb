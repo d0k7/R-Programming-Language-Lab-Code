{
  "nbformat": 4,
  "nbformat_minor": 0,
  "metadata": {
    "colab": {
      "provenance": [],
      "authorship_tag": "ABX9TyNwjqkDroWGH2AoadDq+3Ho",
      "include_colab_link": true
    },
    "kernelspec": {
      "name": "ir",
      "display_name": "R"
    },
    "language_info": {
      "name": "R"
    }
  },
  "cells": [
    {
      "cell_type": "markdown",
      "metadata": {
        "id": "view-in-github",
        "colab_type": "text"
      },
      "source": [
        "<a href=\"https://colab.research.google.com/github/d0k7/R-Programming-Language-Lab-Code/blob/main/R_LAB_UNIT_2.ipynb\" target=\"_parent\"><img src=\"https://colab.research.google.com/assets/colab-badge.svg\" alt=\"Open In Colab\"/></a>"
      ]
    },
    {
      "cell_type": "code",
      "execution_count": 1,
      "metadata": {
        "colab": {
          "base_uri": "https://localhost:8080/"
        },
        "id": "u1nr6xFa6zPr",
        "outputId": "d627a80f-6531-4066-f40b-97dabf1004c4"
      },
      "outputs": [
        {
          "output_type": "stream",
          "name": "stdout",
          "text": [
            ", , 1\n",
            "\n",
            "     [,1] [,2]\n",
            "[1,]  4.8  4.4\n",
            "[2,]  4.7  4.3\n",
            "[3,]  4.6  4.2\n",
            "[4,]  4.5  4.1\n",
            "\n",
            ", , 2\n",
            "\n",
            "     [,1] [,2]\n",
            "[1,]  4.0  3.6\n",
            "[2,]  3.9  3.5\n",
            "[3,]  3.8  3.4\n",
            "[4,]  3.7  3.3\n",
            "\n",
            ", , 3\n",
            "\n",
            "     [,1] [,2]\n",
            "[1,]  3.2  2.8\n",
            "[2,]  3.1  2.7\n",
            "[3,]  3.0  2.6\n",
            "[4,]  2.9  2.5\n",
            "\n",
            ", , 4\n",
            "\n",
            "     [,1] [,2]\n",
            "[1,]  2.4  2.0\n",
            "[2,]  2.3  1.9\n",
            "[3,]  2.2  1.8\n",
            "[4,]  2.1  1.7\n",
            "\n",
            ", , 5\n",
            "\n",
            "     [,1] [,2]\n",
            "[1,]  1.6  1.2\n",
            "[2,]  1.5  1.1\n",
            "[3,]  1.4  1.0\n",
            "[4,]  1.3  0.9\n",
            "\n",
            ", , 6\n",
            "\n",
            "     [,1] [,2]\n",
            "[1,]  0.8  0.4\n",
            "[2,]  0.7  0.3\n",
            "[3,]  0.6  0.2\n",
            "[4,]  0.5  0.1\n",
            "\n"
          ]
        }
      ],
      "source": [
        "#Q1)Create and store a three-dimensional array with six layers of a 4 X 2 matrix, filled with a decreasing sequence of values between 4.8 and 0.1 of the appropriate length.\n",
        "\n",
        "\n",
        "\n",
        "# Create the sequence of values\n",
        "sequence_values <- seq(4.8, 0.1, length.out = 4*2*6)\n",
        "\n",
        "# Reshape the sequence into a 4 X 2 X 6 array\n",
        "three_dim_array <- array(sequence_values, dim = c(4, 2, 6))\n",
        "print(three_dim_array)\n",
        "\n"
      ]
    },
    {
      "cell_type": "code",
      "source": [
        "#Q2) Extract and store as a new object the fourth- and first-row elements, in that order, of the second column only of all layers of(1).\n",
        "\n",
        "\n",
        "\n",
        "# Extract the elements\n",
        "extracted_elements <- three_dim_array[c(4, 1), 2, ]\n",
        "print(extracted_elements)\n",
        "\n"
      ],
      "metadata": {
        "colab": {
          "base_uri": "https://localhost:8080/"
        },
        "id": "ufjTEsl57MwW",
        "outputId": "de78716d-bc97-40f0-9373-84f70986d8d2"
      },
      "execution_count": 2,
      "outputs": [
        {
          "output_type": "stream",
          "name": "stdout",
          "text": [
            "     [,1] [,2] [,3] [,4] [,5] [,6]\n",
            "[1,]  4.1  3.3  2.5  1.7  0.9  0.1\n",
            "[2,]  4.4  3.6  2.8  2.0  1.2  0.4\n"
          ]
        }
      ]
    },
    {
      "cell_type": "code",
      "source": [
        "#Q3) Use a fourfold repetition of the second row of the matrix formed in (2) to fill a new array of dimensions 2 X 2 X 2 X\n",
        "\n",
        "\n",
        "\n",
        "# Create the new array with fourfold repetition of the second row\n",
        "repeated_array <- array(rep(extracted_elements, times = 4), dim = c(2, 2, 2, 4))\n",
        "print(repeated_array)\n"
      ],
      "metadata": {
        "colab": {
          "base_uri": "https://localhost:8080/"
        },
        "id": "dFyaa4Ww7ROP",
        "outputId": "d7ff3a64-3ae2-486e-f891-78b1be581151"
      },
      "execution_count": 3,
      "outputs": [
        {
          "output_type": "stream",
          "name": "stdout",
          "text": [
            ", , 1, 1\n",
            "\n",
            "     [,1] [,2]\n",
            "[1,]  4.1  3.3\n",
            "[2,]  4.4  3.6\n",
            "\n",
            ", , 2, 1\n",
            "\n",
            "     [,1] [,2]\n",
            "[1,]  2.5  1.7\n",
            "[2,]  2.8  2.0\n",
            "\n",
            ", , 1, 2\n",
            "\n",
            "     [,1] [,2]\n",
            "[1,]  0.9  0.1\n",
            "[2,]  1.2  0.4\n",
            "\n",
            ", , 2, 2\n",
            "\n",
            "     [,1] [,2]\n",
            "[1,]  4.1  3.3\n",
            "[2,]  4.4  3.6\n",
            "\n",
            ", , 1, 3\n",
            "\n",
            "     [,1] [,2]\n",
            "[1,]  2.5  1.7\n",
            "[2,]  2.8  2.0\n",
            "\n",
            ", , 2, 3\n",
            "\n",
            "     [,1] [,2]\n",
            "[1,]  0.9  0.1\n",
            "[2,]  1.2  0.4\n",
            "\n",
            ", , 1, 4\n",
            "\n",
            "     [,1] [,2]\n",
            "[1,]  4.1  3.3\n",
            "[2,]  4.4  3.6\n",
            "\n",
            ", , 2, 4\n",
            "\n",
            "     [,1] [,2]\n",
            "[1,]  2.5  1.7\n",
            "[2,]  2.8  2.0\n",
            "\n"
          ]
        }
      ]
    },
    {
      "cell_type": "code",
      "source": [
        "#Q4) Create a new array comprised of the results of deleting the sixth layer of(1).\n",
        "\n",
        "\n",
        "# Delete the sixth layer\n",
        "modified_array <- three_dim_array[, , -6]\n",
        "print(modified_array)\n"
      ],
      "metadata": {
        "colab": {
          "base_uri": "https://localhost:8080/"
        },
        "id": "Ukwt5jlc7Zeb",
        "outputId": "6b95bdcc-50c9-4c33-cfa1-390a3472983c"
      },
      "execution_count": 4,
      "outputs": [
        {
          "output_type": "stream",
          "name": "stdout",
          "text": [
            ", , 1\n",
            "\n",
            "     [,1] [,2]\n",
            "[1,]  4.8  4.4\n",
            "[2,]  4.7  4.3\n",
            "[3,]  4.6  4.2\n",
            "[4,]  4.5  4.1\n",
            "\n",
            ", , 2\n",
            "\n",
            "     [,1] [,2]\n",
            "[1,]  4.0  3.6\n",
            "[2,]  3.9  3.5\n",
            "[3,]  3.8  3.4\n",
            "[4,]  3.7  3.3\n",
            "\n",
            ", , 3\n",
            "\n",
            "     [,1] [,2]\n",
            "[1,]  3.2  2.8\n",
            "[2,]  3.1  2.7\n",
            "[3,]  3.0  2.6\n",
            "[4,]  2.9  2.5\n",
            "\n",
            ", , 4\n",
            "\n",
            "     [,1] [,2]\n",
            "[1,]  2.4  2.0\n",
            "[2,]  2.3  1.9\n",
            "[3,]  2.2  1.8\n",
            "[4,]  2.1  1.7\n",
            "\n",
            ", , 5\n",
            "\n",
            "     [,1] [,2]\n",
            "[1,]  1.6  1.2\n",
            "[2,]  1.5  1.1\n",
            "[3,]  1.4  1.0\n",
            "[4,]  1.3  0.9\n",
            "\n"
          ]
        }
      ]
    },
    {
      "cell_type": "code",
      "source": [
        "#Q5) Overwrite the second and fourth row elements of the second column of layers 1, 3 and 5 of(4) with -99.\n",
        "\n",
        "\n",
        "# Overwrite specific elements in layers 1, 3, and 5\n",
        "modified_array[c(2, 4), 2, c(1, 3, 5)] <- -99\n",
        "print(modified_array)\n"
      ],
      "metadata": {
        "colab": {
          "base_uri": "https://localhost:8080/"
        },
        "id": "5ZkWjMYQ7ekt",
        "outputId": "11f71eeb-2ebe-4182-d2c9-9636ccb1f30c"
      },
      "execution_count": 5,
      "outputs": [
        {
          "output_type": "stream",
          "name": "stdout",
          "text": [
            ", , 1\n",
            "\n",
            "     [,1]  [,2]\n",
            "[1,]  4.8   4.4\n",
            "[2,]  4.7 -99.0\n",
            "[3,]  4.6   4.2\n",
            "[4,]  4.5 -99.0\n",
            "\n",
            ", , 2\n",
            "\n",
            "     [,1] [,2]\n",
            "[1,]  4.0  3.6\n",
            "[2,]  3.9  3.5\n",
            "[3,]  3.8  3.4\n",
            "[4,]  3.7  3.3\n",
            "\n",
            ", , 3\n",
            "\n",
            "     [,1]  [,2]\n",
            "[1,]  3.2   2.8\n",
            "[2,]  3.1 -99.0\n",
            "[3,]  3.0   2.6\n",
            "[4,]  2.9 -99.0\n",
            "\n",
            ", , 4\n",
            "\n",
            "     [,1] [,2]\n",
            "[1,]  2.4  2.0\n",
            "[2,]  2.3  1.9\n",
            "[3,]  2.2  1.8\n",
            "[4,]  2.1  1.7\n",
            "\n",
            ", , 5\n",
            "\n",
            "     [,1]  [,2]\n",
            "[1,]  1.6   1.2\n",
            "[2,]  1.5 -99.0\n",
            "[3,]  1.4   1.0\n",
            "[4,]  1.3 -99.0\n",
            "\n"
          ]
        }
      ]
    }
  ]
}